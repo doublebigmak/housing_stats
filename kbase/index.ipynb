{
 "cells": [
  {
   "cell_type": "markdown",
   "metadata": {},
   "source": [
    "### [Home](index.ipynb)\n",
    "\n",
    "### [Resale Market](resales.ipynb)\n",
    "\n",
    "### [Construction/Starts](starts.ipynb)\n",
    "\n",
    "### [Rental Market](rental.ipynb)\n",
    "\n",
    "### [Economic Drivers](economics.ipynb)\n",
    "\n",
    "### [Demograhics/Migration](demographics.ipynb)"
   ]
  },
  {
   "cell_type": "markdown",
   "metadata": {},
   "source": []
  }
 ],
 "metadata": {
  "language_info": {
   "name": "python"
  },
  "orig_nbformat": 4
 },
 "nbformat": 4,
 "nbformat_minor": 2
}
