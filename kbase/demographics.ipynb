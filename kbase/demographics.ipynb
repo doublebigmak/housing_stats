{
 "cells": [
  {
   "cell_type": "markdown",
   "metadata": {},
   "source": [
    "# Demographics/Migration"
   ]
  },
  {
   "cell_type": "markdown",
   "metadata": {},
   "source": [
    "## Notebook Links:\n",
    "[Home](index.ipynb)\n",
    "\n",
    "[Resale Market](resales.ipynb)\n",
    "\n",
    "[Construction/Starts](starts.ipynb)\n",
    "\n",
    "[Rental Market](rental.ipynb)\n",
    "\n",
    "[Economic Drivers](economics.ipynb)\n",
    "\n",
    "[Demograhics/Migration](demographics.ipynb)\n",
    "\n",
    "## HTML Links:\n",
    "[Home](index.html)\n",
    "\n",
    "[Resale Market](resales.html)\n",
    "\n",
    "[Construction/Starts](starts.html)\n",
    "\n",
    "[Rental Market](rental.html)\n",
    "\n",
    "[Economic Drivers](economics.html)\n",
    "\n",
    "[Demograhics/Migration](demographics.html)"
   ]
  },
  {
   "cell_type": "markdown",
   "metadata": {},
   "source": [
    "17-10-0135-01 - pop estimates"
   ]
  },
  {
   "cell_type": "markdown",
   "metadata": {},
   "source": []
  }
 ],
 "metadata": {
  "language_info": {
   "name": "python"
  },
  "orig_nbformat": 4
 },
 "nbformat": 4,
 "nbformat_minor": 2
}
