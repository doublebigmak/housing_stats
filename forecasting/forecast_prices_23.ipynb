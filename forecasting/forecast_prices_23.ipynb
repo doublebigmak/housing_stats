{
 "cells": [
  {
   "cell_type": "code",
   "execution_count": 1,
   "metadata": {},
   "outputs": [],
   "source": [
    "import pandas as pd\n",
    "import numpy as np\n",
    "import statsmodels.api as sm\n",
    "from scipy import stats\n",
    "import matplotlib.pyplot as plt\n",
    "import seaborn as sns\n",
    "import math\n",
    "from sklearn.metrics import mean_squared_error\n",
    "sns.set(font='Arial')"
   ]
  },
  {
   "cell_type": "code",
   "execution_count": 2,
   "metadata": {},
   "outputs": [],
   "source": [
    "from statsmodels.tsa.api import ARDL\n",
    "from statsmodels.tsa.ardl import ardl_select_order\n",
    "from statsmodels.tsa.seasonal import STL\n",
    "plt.rc(\"figure\", figsize=(16, 10))"
   ]
  },
  {
   "cell_type": "code",
   "execution_count": 3,
   "metadata": {},
   "outputs": [],
   "source": [
    "df = pd.read_csv('..\\\\data\\\\pareto\\\\acapricna_q.csv',index_col=0)\n",
    "df=df.join(pd.read_csv('..\\\\data\\\\pareto\\\\acapricnr_q.csv',index_col=0))\n",
    "\n",
    "df.index=df.index.rename('Date')\n",
    "df.index=pd.DatetimeIndex(df.index,freq='QS-OCT')"
   ]
  },
  {
   "cell_type": "code",
   "execution_count": 5,
   "metadata": {},
   "outputs": [],
   "source": [
    "nat_var = pd.read_excel('../data/hmo_2023_variables.xlsx',sheet_name='national',engine='openpyxl',index_col=0)\n",
    "prov_var=pd.read_excel('../data/hmo_2023_variables.xlsx',sheet_name='provincial',engine='openpyxl',index_col=0)\n",
    "covid = pd.read_excel('../data/hmo_2023_variables.xlsx',sheet_name='covid_dummy',engine='openpyxl',index_col=0)\n",
    "wti = pd.read_excel('../data/hmo_2023_variables.xlsx',sheet_name='wti',engine='openpyxl',index_col=0)\n",
    "\n",
    "\n",
    "nat_var.index = nat_var.index.str.replace(' ','')\n",
    "nat_var.index = nat_var.index.rename('Date')\n",
    "nat_var.index = pd.PeriodIndex(nat_var.index,freq='Q').to_timestamp()\n",
    "\n",
    "prov_var.index = prov_var.index.rename('Date')\n",
    "prov_var.index = pd.PeriodIndex(prov_var.index,freq='Q').to_timestamp()\n",
    "\n",
    "\n",
    "covid.index = covid.index.str.replace(' ','')\n",
    "covid.index = covid.index.rename('Date')\n",
    "covid.index = pd.PeriodIndex(covid.index,freq='Q').to_timestamp()\n",
    "\n",
    "wti.index=wti.index.str.replace(' ','')\n",
    "wti.index = wti.index.rename('Date')\n",
    "wti.index = pd.PeriodIndex(wti.index,freq='Q').to_timestamp()"
   ]
  },
  {
   "cell_type": "code",
   "execution_count": 6,
   "metadata": {},
   "outputs": [],
   "source": [
    "prov_var = prov_var.join(nat_var)\n",
    "prov_var = prov_var.join(covid)\n",
    "prov_var = prov_var.join(wti)"
   ]
  },
  {
   "cell_type": "code",
   "execution_count": null,
   "metadata": {},
   "outputs": [],
   "source": []
  }
 ],
 "metadata": {
  "kernelspec": {
   "display_name": "base",
   "language": "python",
   "name": "python3"
  },
  "language_info": {
   "codemirror_mode": {
    "name": "ipython",
    "version": 3
   },
   "file_extension": ".py",
   "mimetype": "text/x-python",
   "name": "python",
   "nbconvert_exporter": "python",
   "pygments_lexer": "ipython3",
   "version": "3.7.13"
  },
  "orig_nbformat": 4,
  "vscode": {
   "interpreter": {
    "hash": "c6737802471933d9382d7400dce5c7c1a3c41aef585aa7da79d2529db84d9c59"
   }
  }
 },
 "nbformat": 4,
 "nbformat_minor": 2
}
