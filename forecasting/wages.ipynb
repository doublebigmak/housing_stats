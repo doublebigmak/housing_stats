{
 "cells": [
  {
   "cell_type": "code",
   "execution_count": 1,
   "metadata": {},
   "outputs": [],
   "source": [
    "import pandas as pd \n",
    "import numpy as numpy\n",
    "import matplotlib.pyplot as plt\n",
    "import seaborn as sns\n",
    "\n",
    "from stats_can import StatsCan\n",
    "import statsmodels.api as sm"
   ]
  },
  {
   "cell_type": "code",
   "execution_count": 2,
   "metadata": {},
   "outputs": [],
   "source": [
    "sns.set_theme()"
   ]
  },
  {
   "cell_type": "code",
   "execution_count": 3,
   "metadata": {},
   "outputs": [],
   "source": [
    "sc=StatsCan()"
   ]
  },
  {
   "cell_type": "code",
   "execution_count": 4,
   "metadata": {},
   "outputs": [
    {
     "name": "stdout",
     "output_type": "stream",
     "text": [
      "Downloading and loading table_14100426\n"
     ]
    },
    {
     "name": "stderr",
     "output_type": "stream",
     "text": [
      "14100426-eng.zip: 100%|██████████| 546M/546M [02:30<00:00, 3.62MB/s] \n"
     ]
    }
   ],
   "source": [
    "bc_ft_core = sc.table_to_df('14-10-0426-01')"
   ]
  },
  {
   "cell_type": "code",
   "execution_count": null,
   "metadata": {},
   "outputs": [],
   "source": [
    "seph = sc.table_to_df('14-10-0203-01')\n",
    "seph_old = sc.table_to_df('14-10-0260-01')"
   ]
  },
  {
   "cell_type": "code",
   "execution_count": null,
   "metadata": {},
   "outputs": [],
   "source": [
    "wages = bc_ft_core"
   ]
  },
  {
   "cell_type": "code",
   "execution_count": null,
   "metadata": {},
   "outputs": [],
   "source": [
    "bc_ft_core = bc_ft_core[(bc_ft_core['GEO']=='British Columbia')&\n",
    "                        (bc_ft_core['Type of work']=='Full-time employees')&\n",
    "                        (bc_ft_core['Age group']=='25 to 54 years')&\n",
    "                        (bc_ft_core['National Occupation Classification (NOC)']=='Total employees, all occupatiuons [00-95]')&\n",
    "                        (bc_ft_core['Sex']=='Both sexes')]\n",
    "\n"
   ]
  },
  {
   "cell_type": "code",
   "execution_count": null,
   "metadata": {},
   "outputs": [],
   "source": [
    "bc_ft_core = bc_ft_core.set_index('REF_DATE')\n",
    "bc_ft_core=bc_ft_core['VALUE']"
   ]
  },
  {
   "cell_type": "code",
   "execution_count": null,
   "metadata": {},
   "outputs": [],
   "source": [
    "seph = seph[(seph['GEO']=='British Columbia')&\n",
    "                        (seph['Type of employees']=='Salaried employees paid a fixed salary')&\n",
    "                        (bc_ft_core['Age group']=='25 to 54 years')&\n",
    "                        (bc_ft_core['National Occupation Classification (NOC)']=='Total employees, all occupatiuons [00-95]')&\n",
    "                        (bc_ft_core['Sex']=='Both sexes')]"
   ]
  }
 ],
 "metadata": {
  "kernelspec": {
   "display_name": "base",
   "language": "python",
   "name": "python3"
  },
  "language_info": {
   "codemirror_mode": {
    "name": "ipython",
    "version": 3
   },
   "file_extension": ".py",
   "mimetype": "text/x-python",
   "name": "python",
   "nbconvert_exporter": "python",
   "pygments_lexer": "ipython3",
   "version": "3.7.13"
  }
 },
 "nbformat": 4,
 "nbformat_minor": 2
}
