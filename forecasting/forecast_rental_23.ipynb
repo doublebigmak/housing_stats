{
 "cells": [
  {
   "cell_type": "code",
   "execution_count": null,
   "metadata": {},
   "outputs": [],
   "source": []
  }
 ],
 "metadata": {
  "kernelspec": {
   "display_name": "base",
   "language": "python",
   "name": "python3"
  },
  "language_info": {
   "name": "python",
   "version": "3.9.12"
  },
  "orig_nbformat": 4,
  "vscode": {
   "interpreter": {
    "hash": "999690beebd44f40e7d17d5b09d89173a83bacd992b98c6b59f04c5eee77b843"
   }
  }
 },
 "nbformat": 4,
 "nbformat_minor": 2
}
