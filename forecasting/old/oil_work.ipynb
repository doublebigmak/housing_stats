{
 "cells": [
  {
   "cell_type": "code",
   "execution_count": 2,
   "metadata": {},
   "outputs": [],
   "source": [
    "import pandas as pd\n",
    "import numpy as np \n"
   ]
  },
  {
   "cell_type": "code",
   "execution_count": 3,
   "metadata": {},
   "outputs": [],
   "source": [
    "oil_price = pd.read_excel('oil_forecast.xlsx', sheet_name='aggregate')"
   ]
  },
  {
   "cell_type": "code",
   "execution_count": 4,
   "metadata": {},
   "outputs": [
    {
     "data": {
      "text/html": [
       "<div>\n",
       "<style scoped>\n",
       "    .dataframe tbody tr th:only-of-type {\n",
       "        vertical-align: middle;\n",
       "    }\n",
       "\n",
       "    .dataframe tbody tr th {\n",
       "        vertical-align: top;\n",
       "    }\n",
       "\n",
       "    .dataframe thead th {\n",
       "        text-align: right;\n",
       "    }\n",
       "</style>\n",
       "<table border=\"1\" class=\"dataframe\">\n",
       "  <thead>\n",
       "    <tr style=\"text-align: right;\">\n",
       "      <th></th>\n",
       "      <th>Date</th>\n",
       "      <th>Price</th>\n",
       "    </tr>\n",
       "  </thead>\n",
       "  <tbody>\n",
       "    <tr>\n",
       "      <th>0</th>\n",
       "      <td>2020</td>\n",
       "      <td>29.000000</td>\n",
       "    </tr>\n",
       "    <tr>\n",
       "      <th>1</th>\n",
       "      <td>2021</td>\n",
       "      <td>43.500000</td>\n",
       "    </tr>\n",
       "    <tr>\n",
       "      <th>2</th>\n",
       "      <td>2022</td>\n",
       "      <td>50.740880</td>\n",
       "    </tr>\n",
       "    <tr>\n",
       "      <th>3</th>\n",
       "      <td>2023</td>\n",
       "      <td>56.554417</td>\n",
       "    </tr>\n",
       "    <tr>\n",
       "      <th>4</th>\n",
       "      <td>2024</td>\n",
       "      <td>57.057800</td>\n",
       "    </tr>\n",
       "  </tbody>\n",
       "</table>\n",
       "</div>"
      ],
      "text/plain": [
       "   Date      Price\n",
       "0  2020  29.000000\n",
       "1  2021  43.500000\n",
       "2  2022  50.740880\n",
       "3  2023  56.554417\n",
       "4  2024  57.057800"
      ]
     },
     "execution_count": 4,
     "metadata": {},
     "output_type": "execute_result"
    }
   ],
   "source": [
    "oil_price"
   ]
  },
  {
   "cell_type": "markdown",
   "metadata": {},
   "source": [
    "## Current assumptions:\n",
    "Oil prices are a combination of 4 different series:\n",
    "\n",
    "1. EIA Short Term Energy Outlook (April 2020 release)\n",
    "2. EIA International Energy Outlook 2019 (September 2019 release)\n",
    "    - Low Oil Price \n",
    "    - Mid (Reference) Oil price\n",
    "3. Deloitte Q1 2020 Oil & Gas Forecast\n",
    "\n",
    "Prices are assumed as at year end. 2020 = December 2020. \n",
    "\n",
    "In current series, 2020, 2021 forecast is purely EIA, as they have monthly forecasts for oil.\n",
    "\n",
    "2022 and beyond is an average of 3 series, the mid point from EIA's 2019 IEO, the low point from EIA's 2019 IEO, and Deloitte's forecast. \n",
    "\n",
    "\n"
   ]
  },
  {
   "cell_type": "code",
   "execution_count": 5,
   "metadata": {},
   "outputs": [],
   "source": [
    "import datetime"
   ]
  },
  {
   "cell_type": "code",
   "execution_count": 6,
   "metadata": {},
   "outputs": [],
   "source": [
    "oil_price['Date']=pd.to_datetime(oil_price['Date'], format='%Y')+pd.offsets.YearEnd()"
   ]
  },
  {
   "cell_type": "code",
   "execution_count": 7,
   "metadata": {},
   "outputs": [],
   "source": [
    "oil_price = oil_price.set_index('Date')\n"
   ]
  },
  {
   "cell_type": "code",
   "execution_count": 8,
   "metadata": {},
   "outputs": [],
   "source": [
    "oil_price = oil_price.resample('Q',convention='start').asfreq()\n",
    "cubic_interp = oil_price.interpolate(method='cubic')\n",
    "quad_interp = oil_price.interpolate(method='quadratic')"
   ]
  },
  {
   "cell_type": "code",
   "execution_count": 9,
   "metadata": {},
   "outputs": [
    {
     "name": "stdout",
     "output_type": "stream",
     "text": [
      "                Price\n",
      "Date                 \n",
      "2020-12-31  29.000000\n",
      "2021-03-31  33.697934\n",
      "2021-06-30  37.615213\n",
      "2021-09-30  40.854314\n",
      "2021-12-31  43.500000\n",
      "2022-03-31  45.640990\n",
      "2022-06-30  47.483366\n",
      "2022-09-30  49.146523\n",
      "2022-12-31  50.740880\n",
      "2023-03-31  52.324659\n",
      "2023-06-30  53.891418\n",
      "2023-09-30  55.340811\n",
      "2023-12-31  56.554417\n",
      "2024-03-31  57.424036\n",
      "2024-06-30  57.866727\n",
      "2024-09-30  57.780732\n",
      "2024-12-31  57.057800\n"
     ]
    },
    {
     "data": {
      "text/plain": [
       "<matplotlib.axes._subplots.AxesSubplot at 0x295dfb6ba48>"
      ]
     },
     "execution_count": 9,
     "metadata": {},
     "output_type": "execute_result"
    },
    {
     "data": {
      "image/png": "[encoded data removed]",
      "text/plain": [
       "<Figure size 432x288 with 1 Axes>"
      ]
     },
     "metadata": {
      "needs_background": "light"
     },
     "output_type": "display_data"
    }
   ],
   "source": [
    "print(cubic_interp)\n",
    "\n",
    "cubic_interp.plot()"
   ]
  },
  {
   "cell_type": "code",
   "execution_count": 10,
   "metadata": {},
   "outputs": [
    {
     "name": "stdout",
     "output_type": "stream",
     "text": [
      "                Price\n",
      "Date                 \n",
      "2020-12-31  29.000000\n",
      "2021-03-31  33.352777\n",
      "2021-06-30  37.236539\n",
      "2021-09-30  40.634136\n",
      "2021-12-31  43.500000\n",
      "2022-03-31  45.789042\n",
      "2022-06-30  47.586139\n",
      "2022-09-30  49.147214\n",
      "2022-12-31  50.740880\n",
      "2023-03-31  52.331509\n",
      "2023-06-30  53.971596\n",
      "2023-09-30  55.457835\n",
      "2023-12-31  56.554417\n",
      "2024-03-31  57.255697\n",
      "2024-06-30  57.575688\n",
      "2024-09-30  57.511601\n",
      "2024-12-31  57.057800\n"
     ]
    },
    {
     "data": {
      "text/plain": [
       "<matplotlib.axes._subplots.AxesSubplot at 0x295e06f9b88>"
      ]
     },
     "execution_count": 10,
     "metadata": {},
     "output_type": "execute_result"
    },
    {
     "data": {
      "image/png": "[encoded data removed]",
      "text/plain": [
       "<Figure size 432x288 with 1 Axes>"
      ]
     },
     "metadata": {
      "needs_background": "light"
     },
     "output_type": "display_data"
    }
   ],
   "source": [
    "print(quad_interp)\n",
    "quad_interp.plot()"
   ]
  },
  {
   "cell_type": "code",
   "execution_count": 11,
   "metadata": {},
   "outputs": [],
   "source": [
    "oil_price['Cubic']= cubic_interp\n",
    "oil_price['Quadratic']=quad_interp"
   ]
  },
  {
   "cell_type": "code",
   "execution_count": 12,
   "metadata": {},
   "outputs": [
    {
     "data": {
      "text/plain": [
       "<matplotlib.axes._subplots.AxesSubplot at 0x295e079c588>"
      ]
     },
     "execution_count": 12,
     "metadata": {},
     "output_type": "execute_result"
    },
    {
     "data": {
      "image/png": "[encoded data removed]",
      "text/plain": [
       "<Figure size 1152x576 with 1 Axes>"
      ]
     },
     "metadata": {
      "needs_background": "light"
     },
     "output_type": "display_data"
    }
   ],
   "source": [
    "oil_price[['Cubic','Quadratic']].plot(figsize=(16,8))"
   ]
  },
  {
   "cell_type": "code",
   "execution_count": 13,
   "metadata": {},
   "outputs": [
    {
     "data": {
      "text/html": [
       "<div>\n",
       "<style scoped>\n",
       "    .dataframe tbody tr th:only-of-type {\n",
       "        vertical-align: middle;\n",
       "    }\n",
       "\n",
       "    .dataframe tbody tr th {\n",
       "        vertical-align: top;\n",
       "    }\n",
       "\n",
       "    .dataframe thead th {\n",
       "        text-align: right;\n",
       "    }\n",
       "</style>\n",
       "<table border=\"1\" class=\"dataframe\">\n",
       "  <thead>\n",
       "    <tr style=\"text-align: right;\">\n",
       "      <th></th>\n",
       "      <th>Price</th>\n",
       "      <th>Cubic</th>\n",
       "      <th>Quadratic</th>\n",
       "    </tr>\n",
       "    <tr>\n",
       "      <th>Date</th>\n",
       "      <th></th>\n",
       "      <th></th>\n",
       "      <th></th>\n",
       "    </tr>\n",
       "  </thead>\n",
       "  <tbody>\n",
       "    <tr>\n",
       "      <th>2020-12-31</th>\n",
       "      <td>29.000000</td>\n",
       "      <td>29.000000</td>\n",
       "      <td>29.000000</td>\n",
       "    </tr>\n",
       "    <tr>\n",
       "      <th>2021-03-31</th>\n",
       "      <td>NaN</td>\n",
       "      <td>33.697934</td>\n",
       "      <td>33.352777</td>\n",
       "    </tr>\n",
       "    <tr>\n",
       "      <th>2021-06-30</th>\n",
       "      <td>NaN</td>\n",
       "      <td>37.615213</td>\n",
       "      <td>37.236539</td>\n",
       "    </tr>\n",
       "    <tr>\n",
       "      <th>2021-09-30</th>\n",
       "      <td>NaN</td>\n",
       "      <td>40.854314</td>\n",
       "      <td>40.634136</td>\n",
       "    </tr>\n",
       "    <tr>\n",
       "      <th>2021-12-31</th>\n",
       "      <td>43.500000</td>\n",
       "      <td>43.500000</td>\n",
       "      <td>43.500000</td>\n",
       "    </tr>\n",
       "    <tr>\n",
       "      <th>2022-03-31</th>\n",
       "      <td>NaN</td>\n",
       "      <td>45.640990</td>\n",
       "      <td>45.789042</td>\n",
       "    </tr>\n",
       "    <tr>\n",
       "      <th>2022-06-30</th>\n",
       "      <td>NaN</td>\n",
       "      <td>47.483366</td>\n",
       "      <td>47.586139</td>\n",
       "    </tr>\n",
       "    <tr>\n",
       "      <th>2022-09-30</th>\n",
       "      <td>NaN</td>\n",
       "      <td>49.146523</td>\n",
       "      <td>49.147214</td>\n",
       "    </tr>\n",
       "    <tr>\n",
       "      <th>2022-12-31</th>\n",
       "      <td>50.740880</td>\n",
       "      <td>50.740880</td>\n",
       "      <td>50.740880</td>\n",
       "    </tr>\n",
       "    <tr>\n",
       "      <th>2023-03-31</th>\n",
       "      <td>NaN</td>\n",
       "      <td>52.324659</td>\n",
       "      <td>52.331509</td>\n",
       "    </tr>\n",
       "    <tr>\n",
       "      <th>2023-06-30</th>\n",
       "      <td>NaN</td>\n",
       "      <td>53.891418</td>\n",
       "      <td>53.971596</td>\n",
       "    </tr>\n",
       "    <tr>\n",
       "      <th>2023-09-30</th>\n",
       "      <td>NaN</td>\n",
       "      <td>55.340811</td>\n",
       "      <td>55.457835</td>\n",
       "    </tr>\n",
       "    <tr>\n",
       "      <th>2023-12-31</th>\n",
       "      <td>56.554417</td>\n",
       "      <td>56.554417</td>\n",
       "      <td>56.554417</td>\n",
       "    </tr>\n",
       "    <tr>\n",
       "      <th>2024-03-31</th>\n",
       "      <td>NaN</td>\n",
       "      <td>57.424036</td>\n",
       "      <td>57.255697</td>\n",
       "    </tr>\n",
       "    <tr>\n",
       "      <th>2024-06-30</th>\n",
       "      <td>NaN</td>\n",
       "      <td>57.866727</td>\n",
       "      <td>57.575688</td>\n",
       "    </tr>\n",
       "    <tr>\n",
       "      <th>2024-09-30</th>\n",
       "      <td>NaN</td>\n",
       "      <td>57.780732</td>\n",
       "      <td>57.511601</td>\n",
       "    </tr>\n",
       "    <tr>\n",
       "      <th>2024-12-31</th>\n",
       "      <td>57.057800</td>\n",
       "      <td>57.057800</td>\n",
       "      <td>57.057800</td>\n",
       "    </tr>\n",
       "  </tbody>\n",
       "</table>\n",
       "</div>"
      ],
      "text/plain": [
       "                Price      Cubic  Quadratic\n",
       "Date                                       \n",
       "2020-12-31  29.000000  29.000000  29.000000\n",
       "2021-03-31        NaN  33.697934  33.352777\n",
       "2021-06-30        NaN  37.615213  37.236539\n",
       "2021-09-30        NaN  40.854314  40.634136\n",
       "2021-12-31  43.500000  43.500000  43.500000\n",
       "2022-03-31        NaN  45.640990  45.789042\n",
       "2022-06-30        NaN  47.483366  47.586139\n",
       "2022-09-30        NaN  49.146523  49.147214\n",
       "2022-12-31  50.740880  50.740880  50.740880\n",
       "2023-03-31        NaN  52.324659  52.331509\n",
       "2023-06-30        NaN  53.891418  53.971596\n",
       "2023-09-30        NaN  55.340811  55.457835\n",
       "2023-12-31  56.554417  56.554417  56.554417\n",
       "2024-03-31        NaN  57.424036  57.255697\n",
       "2024-06-30        NaN  57.866727  57.575688\n",
       "2024-09-30        NaN  57.780732  57.511601\n",
       "2024-12-31  57.057800  57.057800  57.057800"
      ]
     },
     "execution_count": 13,
     "metadata": {},
     "output_type": "execute_result"
    }
   ],
   "source": [
    "oil_price"
   ]
  },
  {
   "cell_type": "code",
   "execution_count": 16,
   "metadata": {},
   "outputs": [],
   "source": [
    "oil_price = pd.read_excel('oil_price.xlsx', sheet_name='Sheet1')"
   ]
  },
  {
   "cell_type": "code",
   "execution_count": 18,
   "metadata": {},
   "outputs": [],
   "source": [
    "oil_price=oil_price.set_index('Date')"
   ]
  },
  {
   "cell_type": "code",
   "execution_count": 19,
   "metadata": {},
   "outputs": [
    {
     "data": {
      "text/html": [
       "<div>\n",
       "<style scoped>\n",
       "    .dataframe tbody tr th:only-of-type {\n",
       "        vertical-align: middle;\n",
       "    }\n",
       "\n",
       "    .dataframe tbody tr th {\n",
       "        vertical-align: top;\n",
       "    }\n",
       "\n",
       "    .dataframe thead th {\n",
       "        text-align: right;\n",
       "    }\n",
       "</style>\n",
       "<table border=\"1\" class=\"dataframe\">\n",
       "  <thead>\n",
       "    <tr style=\"text-align: right;\">\n",
       "      <th></th>\n",
       "      <th>Price</th>\n",
       "      <th>Cubic</th>\n",
       "      <th>Quadratic</th>\n",
       "    </tr>\n",
       "    <tr>\n",
       "      <th>Date</th>\n",
       "      <th></th>\n",
       "      <th></th>\n",
       "      <th></th>\n",
       "    </tr>\n",
       "  </thead>\n",
       "  <tbody>\n",
       "    <tr>\n",
       "      <th>2020-03-31</th>\n",
       "      <td>45.782567</td>\n",
       "      <td>45.782567</td>\n",
       "      <td>45.782567</td>\n",
       "    </tr>\n",
       "    <tr>\n",
       "      <th>2020-06-30</th>\n",
       "      <td>20.166667</td>\n",
       "      <td>NaN</td>\n",
       "      <td>NaN</td>\n",
       "    </tr>\n",
       "    <tr>\n",
       "      <th>2020-09-30</th>\n",
       "      <td>23.500000</td>\n",
       "      <td>NaN</td>\n",
       "      <td>NaN</td>\n",
       "    </tr>\n",
       "    <tr>\n",
       "      <th>2020-12-31</th>\n",
       "      <td>29.000000</td>\n",
       "      <td>29.000000</td>\n",
       "      <td>29.000000</td>\n",
       "    </tr>\n",
       "    <tr>\n",
       "      <th>2021-03-31</th>\n",
       "      <td>36.500000</td>\n",
       "      <td>33.697934</td>\n",
       "      <td>33.352777</td>\n",
       "    </tr>\n",
       "    <tr>\n",
       "      <th>2021-06-30</th>\n",
       "      <td>40.833333</td>\n",
       "      <td>37.615213</td>\n",
       "      <td>37.236539</td>\n",
       "    </tr>\n",
       "    <tr>\n",
       "      <th>2021-09-30</th>\n",
       "      <td>43.166667</td>\n",
       "      <td>40.854314</td>\n",
       "      <td>40.634136</td>\n",
       "    </tr>\n",
       "    <tr>\n",
       "      <th>2021-12-31</th>\n",
       "      <td>43.500000</td>\n",
       "      <td>43.500000</td>\n",
       "      <td>43.500000</td>\n",
       "    </tr>\n",
       "    <tr>\n",
       "      <th>2022-03-31</th>\n",
       "      <td>NaN</td>\n",
       "      <td>45.640990</td>\n",
       "      <td>45.789042</td>\n",
       "    </tr>\n",
       "    <tr>\n",
       "      <th>2022-06-30</th>\n",
       "      <td>NaN</td>\n",
       "      <td>47.483366</td>\n",
       "      <td>47.586139</td>\n",
       "    </tr>\n",
       "    <tr>\n",
       "      <th>2022-09-30</th>\n",
       "      <td>NaN</td>\n",
       "      <td>49.146523</td>\n",
       "      <td>49.147214</td>\n",
       "    </tr>\n",
       "    <tr>\n",
       "      <th>2022-12-31</th>\n",
       "      <td>50.740880</td>\n",
       "      <td>50.740880</td>\n",
       "      <td>50.740880</td>\n",
       "    </tr>\n",
       "    <tr>\n",
       "      <th>2023-03-31</th>\n",
       "      <td>NaN</td>\n",
       "      <td>52.324659</td>\n",
       "      <td>52.331509</td>\n",
       "    </tr>\n",
       "    <tr>\n",
       "      <th>2023-06-30</th>\n",
       "      <td>NaN</td>\n",
       "      <td>53.891418</td>\n",
       "      <td>53.971596</td>\n",
       "    </tr>\n",
       "    <tr>\n",
       "      <th>2023-09-30</th>\n",
       "      <td>NaN</td>\n",
       "      <td>55.340811</td>\n",
       "      <td>55.457835</td>\n",
       "    </tr>\n",
       "    <tr>\n",
       "      <th>2023-12-31</th>\n",
       "      <td>56.554417</td>\n",
       "      <td>56.554417</td>\n",
       "      <td>56.554417</td>\n",
       "    </tr>\n",
       "    <tr>\n",
       "      <th>2024-03-31</th>\n",
       "      <td>NaN</td>\n",
       "      <td>57.424036</td>\n",
       "      <td>57.255697</td>\n",
       "    </tr>\n",
       "    <tr>\n",
       "      <th>2024-06-30</th>\n",
       "      <td>NaN</td>\n",
       "      <td>57.866727</td>\n",
       "      <td>57.575688</td>\n",
       "    </tr>\n",
       "    <tr>\n",
       "      <th>2024-09-30</th>\n",
       "      <td>NaN</td>\n",
       "      <td>57.780732</td>\n",
       "      <td>57.511601</td>\n",
       "    </tr>\n",
       "    <tr>\n",
       "      <th>2024-12-31</th>\n",
       "      <td>57.057800</td>\n",
       "      <td>57.057800</td>\n",
       "      <td>57.057800</td>\n",
       "    </tr>\n",
       "  </tbody>\n",
       "</table>\n",
       "</div>"
      ],
      "text/plain": [
       "                Price      Cubic  Quadratic\n",
       "Date                                       \n",
       "2020-03-31  45.782567  45.782567  45.782567\n",
       "2020-06-30  20.166667        NaN        NaN\n",
       "2020-09-30  23.500000        NaN        NaN\n",
       "2020-12-31  29.000000  29.000000  29.000000\n",
       "2021-03-31  36.500000  33.697934  33.352777\n",
       "2021-06-30  40.833333  37.615213  37.236539\n",
       "2021-09-30  43.166667  40.854314  40.634136\n",
       "2021-12-31  43.500000  43.500000  43.500000\n",
       "2022-03-31        NaN  45.640990  45.789042\n",
       "2022-06-30        NaN  47.483366  47.586139\n",
       "2022-09-30        NaN  49.146523  49.147214\n",
       "2022-12-31  50.740880  50.740880  50.740880\n",
       "2023-03-31        NaN  52.324659  52.331509\n",
       "2023-06-30        NaN  53.891418  53.971596\n",
       "2023-09-30        NaN  55.340811  55.457835\n",
       "2023-12-31  56.554417  56.554417  56.554417\n",
       "2024-03-31        NaN  57.424036  57.255697\n",
       "2024-06-30        NaN  57.866727  57.575688\n",
       "2024-09-30        NaN  57.780732  57.511601\n",
       "2024-12-31  57.057800  57.057800  57.057800"
      ]
     },
     "execution_count": 19,
     "metadata": {},
     "output_type": "execute_result"
    }
   ],
   "source": [
    "oil_price"
   ]
  },
  {
   "cell_type": "code",
   "execution_count": 20,
   "metadata": {},
   "outputs": [],
   "source": [
    "cubic_interp = oil_price.interpolate(method='cubic')\n",
    "quad_interp = oil_price.interpolate(method='quadratic')"
   ]
  },
  {
   "cell_type": "code",
   "execution_count": 23,
   "metadata": {},
   "outputs": [],
   "source": [
    "oil_price['Cubic']= cubic_interp\n",
    "oil_price['Quadratic']=quad_interp"
   ]
  },
  {
   "cell_type": "code",
   "execution_count": 24,
   "metadata": {},
   "outputs": [
    {
     "data": {
      "text/html": [
       "<div>\n",
       "<style scoped>\n",
       "    .dataframe tbody tr th:only-of-type {\n",
       "        vertical-align: middle;\n",
       "    }\n",
       "\n",
       "    .dataframe tbody tr th {\n",
       "        vertical-align: top;\n",
       "    }\n",
       "\n",
       "    .dataframe thead th {\n",
       "        text-align: right;\n",
       "    }\n",
       "</style>\n",
       "<table border=\"1\" class=\"dataframe\">\n",
       "  <thead>\n",
       "    <tr style=\"text-align: right;\">\n",
       "      <th></th>\n",
       "      <th>Price</th>\n",
       "      <th>Cubic</th>\n",
       "      <th>Quadratic</th>\n",
       "    </tr>\n",
       "    <tr>\n",
       "      <th>Date</th>\n",
       "      <th></th>\n",
       "      <th></th>\n",
       "      <th></th>\n",
       "    </tr>\n",
       "  </thead>\n",
       "  <tbody>\n",
       "    <tr>\n",
       "      <th>2020-03-31</th>\n",
       "      <td>45.782567</td>\n",
       "      <td>45.782567</td>\n",
       "      <td>45.782567</td>\n",
       "    </tr>\n",
       "    <tr>\n",
       "      <th>2020-06-30</th>\n",
       "      <td>20.166667</td>\n",
       "      <td>20.166667</td>\n",
       "      <td>20.166667</td>\n",
       "    </tr>\n",
       "    <tr>\n",
       "      <th>2020-09-30</th>\n",
       "      <td>23.500000</td>\n",
       "      <td>23.500000</td>\n",
       "      <td>23.500000</td>\n",
       "    </tr>\n",
       "    <tr>\n",
       "      <th>2020-12-31</th>\n",
       "      <td>29.000000</td>\n",
       "      <td>29.000000</td>\n",
       "      <td>29.000000</td>\n",
       "    </tr>\n",
       "    <tr>\n",
       "      <th>2021-03-31</th>\n",
       "      <td>36.500000</td>\n",
       "      <td>36.500000</td>\n",
       "      <td>36.500000</td>\n",
       "    </tr>\n",
       "    <tr>\n",
       "      <th>2021-06-30</th>\n",
       "      <td>40.833333</td>\n",
       "      <td>40.833333</td>\n",
       "      <td>40.833333</td>\n",
       "    </tr>\n",
       "    <tr>\n",
       "      <th>2021-09-30</th>\n",
       "      <td>43.166667</td>\n",
       "      <td>43.166667</td>\n",
       "      <td>43.166667</td>\n",
       "    </tr>\n",
       "    <tr>\n",
       "      <th>2021-12-31</th>\n",
       "      <td>43.500000</td>\n",
       "      <td>43.500000</td>\n",
       "      <td>43.500000</td>\n",
       "    </tr>\n",
       "    <tr>\n",
       "      <th>2022-03-31</th>\n",
       "      <td>NaN</td>\n",
       "      <td>44.348415</td>\n",
       "      <td>44.386189</td>\n",
       "    </tr>\n",
       "    <tr>\n",
       "      <th>2022-06-30</th>\n",
       "      <td>NaN</td>\n",
       "      <td>46.119976</td>\n",
       "      <td>46.291490</td>\n",
       "    </tr>\n",
       "    <tr>\n",
       "      <th>2022-09-30</th>\n",
       "      <td>NaN</td>\n",
       "      <td>48.404945</td>\n",
       "      <td>48.633701</td>\n",
       "    </tr>\n",
       "    <tr>\n",
       "      <th>2022-12-31</th>\n",
       "      <td>50.740880</td>\n",
       "      <td>50.740880</td>\n",
       "      <td>50.740880</td>\n",
       "    </tr>\n",
       "    <tr>\n",
       "      <th>2023-03-31</th>\n",
       "      <td>NaN</td>\n",
       "      <td>52.717797</td>\n",
       "      <td>52.574662</td>\n",
       "    </tr>\n",
       "    <tr>\n",
       "      <th>2023-06-30</th>\n",
       "      <td>NaN</td>\n",
       "      <td>54.345329</td>\n",
       "      <td>54.199967</td>\n",
       "    </tr>\n",
       "    <tr>\n",
       "      <th>2023-09-30</th>\n",
       "      <td>NaN</td>\n",
       "      <td>55.625866</td>\n",
       "      <td>55.552938</td>\n",
       "    </tr>\n",
       "    <tr>\n",
       "      <th>2023-12-31</th>\n",
       "      <td>56.554417</td>\n",
       "      <td>56.554417</td>\n",
       "      <td>56.554417</td>\n",
       "    </tr>\n",
       "    <tr>\n",
       "      <th>2024-03-31</th>\n",
       "      <td>NaN</td>\n",
       "      <td>57.141255</td>\n",
       "      <td>57.199214</td>\n",
       "    </tr>\n",
       "    <tr>\n",
       "      <th>2024-06-30</th>\n",
       "      <td>NaN</td>\n",
       "      <td>57.412798</td>\n",
       "      <td>57.500105</td>\n",
       "    </tr>\n",
       "    <tr>\n",
       "      <th>2024-09-30</th>\n",
       "      <td>NaN</td>\n",
       "      <td>57.381569</td>\n",
       "      <td>57.454706</td>\n",
       "    </tr>\n",
       "    <tr>\n",
       "      <th>2024-12-31</th>\n",
       "      <td>57.057800</td>\n",
       "      <td>57.057800</td>\n",
       "      <td>57.057800</td>\n",
       "    </tr>\n",
       "  </tbody>\n",
       "</table>\n",
       "</div>"
      ],
      "text/plain": [
       "                Price      Cubic  Quadratic\n",
       "Date                                       \n",
       "2020-03-31  45.782567  45.782567  45.782567\n",
       "2020-06-30  20.166667  20.166667  20.166667\n",
       "2020-09-30  23.500000  23.500000  23.500000\n",
       "2020-12-31  29.000000  29.000000  29.000000\n",
       "2021-03-31  36.500000  36.500000  36.500000\n",
       "2021-06-30  40.833333  40.833333  40.833333\n",
       "2021-09-30  43.166667  43.166667  43.166667\n",
       "2021-12-31  43.500000  43.500000  43.500000\n",
       "2022-03-31        NaN  44.348415  44.386189\n",
       "2022-06-30        NaN  46.119976  46.291490\n",
       "2022-09-30        NaN  48.404945  48.633701\n",
       "2022-12-31  50.740880  50.740880  50.740880\n",
       "2023-03-31        NaN  52.717797  52.574662\n",
       "2023-06-30        NaN  54.345329  54.199967\n",
       "2023-09-30        NaN  55.625866  55.552938\n",
       "2023-12-31  56.554417  56.554417  56.554417\n",
       "2024-03-31        NaN  57.141255  57.199214\n",
       "2024-06-30        NaN  57.412798  57.500105\n",
       "2024-09-30        NaN  57.381569  57.454706\n",
       "2024-12-31  57.057800  57.057800  57.057800"
      ]
     },
     "execution_count": 24,
     "metadata": {},
     "output_type": "execute_result"
    }
   ],
   "source": [
    "oil_price"
   ]
  },
  {
   "cell_type": "code",
   "execution_count": 25,
   "metadata": {},
   "outputs": [
    {
     "data": {
      "text/plain": [
       "<matplotlib.axes._subplots.AxesSubplot at 0x295e0865a88>"
      ]
     },
     "execution_count": 25,
     "metadata": {},
     "output_type": "execute_result"
    },
    {
     "data": {
      "image/png": "[encoded data removed]",
      "text/plain": [
       "<Figure size 1152x576 with 1 Axes>"
      ]
     },
     "metadata": {
      "needs_background": "light"
     },
     "output_type": "display_data"
    }
   ],
   "source": [
    "oil_price[['Cubic','Quadratic']].plot(figsize=(16,8))"
   ]
  },
  {
   "cell_type": "code",
   "execution_count": null,
   "metadata": {},
   "outputs": [],
   "source": []
  }
 ],
 "metadata": {
  "kernelspec": {
   "display_name": "Python 3",
   "language": "python",
   "name": "python3"
  },
  "language_info": {
   "codemirror_mode": {
    "name": "ipython",
    "version": 3
   },
   "file_extension": ".py",
   "mimetype": "text/x-python",
   "name": "python",
   "nbconvert_exporter": "python",
   "pygments_lexer": "ipython3",
   "version": "3.7.4"
  }
 },
 "nbformat": 4,
 "nbformat_minor": 4
}