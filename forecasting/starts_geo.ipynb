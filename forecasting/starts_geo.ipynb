{
 "cells": [
  {
   "cell_type": "code",
   "execution_count": 41,
   "metadata": {},
   "outputs": [],
   "source": [
    "import geopandas as gpd\n",
    "import pandas as pd\n",
    "import matplotlib.pyplot as plt\n",
    "import numpy as np\n"
   ]
  },
  {
   "cell_type": "code",
   "execution_count": 7,
   "metadata": {},
   "outputs": [],
   "source": [
    "ct = gpd.read_file(r'zip://../geo/lct_000b16a_e.zip')"
   ]
  },
  {
   "cell_type": "code",
   "execution_count": 10,
   "metadata": {},
   "outputs": [],
   "source": [
    "cal_ct = ct[ct['CMANAME']=='Calgary']"
   ]
  },
  {
   "cell_type": "code",
   "execution_count": 83,
   "metadata": {},
   "outputs": [
    {
     "data": {
      "text/html": [
       "<div>\n",
       "<style scoped>\n",
       "    .dataframe tbody tr th:only-of-type {\n",
       "        vertical-align: middle;\n",
       "    }\n",
       "\n",
       "    .dataframe tbody tr th {\n",
       "        vertical-align: top;\n",
       "    }\n",
       "\n",
       "    .dataframe thead th {\n",
       "        text-align: right;\n",
       "    }\n",
       "</style>\n",
       "<table border=\"1\" class=\"dataframe\">\n",
       "  <thead>\n",
       "    <tr style=\"text-align: right;\">\n",
       "      <th></th>\n",
       "      <th>CTUID</th>\n",
       "      <th>CTNAME</th>\n",
       "      <th>PRUID</th>\n",
       "      <th>PRNAME</th>\n",
       "      <th>CMAUID</th>\n",
       "      <th>CMAPUID</th>\n",
       "      <th>CMANAME</th>\n",
       "      <th>CMATYPE</th>\n",
       "      <th>geometry</th>\n",
       "    </tr>\n",
       "  </thead>\n",
       "  <tbody>\n",
       "    <tr>\n",
       "      <th>521</th>\n",
       "      <td>8250204.03</td>\n",
       "      <td>0204.03</td>\n",
       "      <td>48</td>\n",
       "      <td>Alberta</td>\n",
       "      <td>825</td>\n",
       "      <td>48825</td>\n",
       "      <td>Calgary</td>\n",
       "      <td>B</td>\n",
       "      <td>POLYGON ((4721866.774 1923999.814, 4721366.451...</td>\n",
       "    </tr>\n",
       "    <tr>\n",
       "      <th>565</th>\n",
       "      <td>8250201.01</td>\n",
       "      <td>0201.01</td>\n",
       "      <td>48</td>\n",
       "      <td>Alberta</td>\n",
       "      <td>825</td>\n",
       "      <td>48825</td>\n",
       "      <td>Calgary</td>\n",
       "      <td>B</td>\n",
       "      <td>POLYGON ((4681607.283 1950607.369, 4681725.897...</td>\n",
       "    </tr>\n",
       "    <tr>\n",
       "      <th>574</th>\n",
       "      <td>8250201.02</td>\n",
       "      <td>0201.02</td>\n",
       "      <td>48</td>\n",
       "      <td>Alberta</td>\n",
       "      <td>825</td>\n",
       "      <td>48825</td>\n",
       "      <td>Calgary</td>\n",
       "      <td>B</td>\n",
       "      <td>POLYGON ((4666222.751 1976893.989, 4666543.574...</td>\n",
       "    </tr>\n",
       "    <tr>\n",
       "      <th>576</th>\n",
       "      <td>8250200.03</td>\n",
       "      <td>0200.03</td>\n",
       "      <td>48</td>\n",
       "      <td>Alberta</td>\n",
       "      <td>825</td>\n",
       "      <td>48825</td>\n",
       "      <td>Calgary</td>\n",
       "      <td>B</td>\n",
       "      <td>POLYGON ((4653424.837 1948201.417, 4653641.457...</td>\n",
       "    </tr>\n",
       "    <tr>\n",
       "      <th>577</th>\n",
       "      <td>8250204.01</td>\n",
       "      <td>0204.01</td>\n",
       "      <td>48</td>\n",
       "      <td>Alberta</td>\n",
       "      <td>825</td>\n",
       "      <td>48825</td>\n",
       "      <td>Calgary</td>\n",
       "      <td>B</td>\n",
       "      <td>POLYGON ((4710210.854 1899299.514, 4710469.103...</td>\n",
       "    </tr>\n",
       "    <tr>\n",
       "      <th>...</th>\n",
       "      <td>...</td>\n",
       "      <td>...</td>\n",
       "      <td>...</td>\n",
       "      <td>...</td>\n",
       "      <td>...</td>\n",
       "      <td>...</td>\n",
       "      <td>...</td>\n",
       "      <td>...</td>\n",
       "      <td>...</td>\n",
       "    </tr>\n",
       "    <tr>\n",
       "      <th>5580</th>\n",
       "      <td>8250001.29</td>\n",
       "      <td>0001.29</td>\n",
       "      <td>48</td>\n",
       "      <td>Alberta</td>\n",
       "      <td>825</td>\n",
       "      <td>48825</td>\n",
       "      <td>Calgary</td>\n",
       "      <td>B</td>\n",
       "      <td>POLYGON ((4679927.134 1909070.640, 4679982.283...</td>\n",
       "    </tr>\n",
       "    <tr>\n",
       "      <th>5598</th>\n",
       "      <td>8250076.09</td>\n",
       "      <td>0076.09</td>\n",
       "      <td>48</td>\n",
       "      <td>Alberta</td>\n",
       "      <td>825</td>\n",
       "      <td>48825</td>\n",
       "      <td>Calgary</td>\n",
       "      <td>B</td>\n",
       "      <td>POLYGON ((4689528.946 1930653.354, 4689505.157...</td>\n",
       "    </tr>\n",
       "    <tr>\n",
       "      <th>5599</th>\n",
       "      <td>8250076.12</td>\n",
       "      <td>0076.12</td>\n",
       "      <td>48</td>\n",
       "      <td>Alberta</td>\n",
       "      <td>825</td>\n",
       "      <td>48825</td>\n",
       "      <td>Calgary</td>\n",
       "      <td>B</td>\n",
       "      <td>POLYGON ((4689957.211 1933804.917, 4690002.617...</td>\n",
       "    </tr>\n",
       "    <tr>\n",
       "      <th>5600</th>\n",
       "      <td>8250076.13</td>\n",
       "      <td>0076.13</td>\n",
       "      <td>48</td>\n",
       "      <td>Alberta</td>\n",
       "      <td>825</td>\n",
       "      <td>48825</td>\n",
       "      <td>Calgary</td>\n",
       "      <td>B</td>\n",
       "      <td>POLYGON ((4686841.946 1937701.051, 4686829.877...</td>\n",
       "    </tr>\n",
       "    <tr>\n",
       "      <th>5720</th>\n",
       "      <td>8250038.29</td>\n",
       "      <td>0038.29</td>\n",
       "      <td>48</td>\n",
       "      <td>Alberta</td>\n",
       "      <td>825</td>\n",
       "      <td>48825</td>\n",
       "      <td>Calgary</td>\n",
       "      <td>B</td>\n",
       "      <td>POLYGON ((4696791.269 1927991.314, 4696833.634...</td>\n",
       "    </tr>\n",
       "  </tbody>\n",
       "</table>\n",
       "<p>253 rows × 9 columns</p>\n",
       "</div>"
      ],
      "text/plain": [
       "           CTUID   CTNAME PRUID   PRNAME CMAUID CMAPUID  CMANAME CMATYPE  \\\n",
       "521   8250204.03  0204.03    48  Alberta    825   48825  Calgary       B   \n",
       "565   8250201.01  0201.01    48  Alberta    825   48825  Calgary       B   \n",
       "574   8250201.02  0201.02    48  Alberta    825   48825  Calgary       B   \n",
       "576   8250200.03  0200.03    48  Alberta    825   48825  Calgary       B   \n",
       "577   8250204.01  0204.01    48  Alberta    825   48825  Calgary       B   \n",
       "...          ...      ...   ...      ...    ...     ...      ...     ...   \n",
       "5580  8250001.29  0001.29    48  Alberta    825   48825  Calgary       B   \n",
       "5598  8250076.09  0076.09    48  Alberta    825   48825  Calgary       B   \n",
       "5599  8250076.12  0076.12    48  Alberta    825   48825  Calgary       B   \n",
       "5600  8250076.13  0076.13    48  Alberta    825   48825  Calgary       B   \n",
       "5720  8250038.29  0038.29    48  Alberta    825   48825  Calgary       B   \n",
       "\n",
       "                                               geometry  \n",
       "521   POLYGON ((4721866.774 1923999.814, 4721366.451...  \n",
       "565   POLYGON ((4681607.283 1950607.369, 4681725.897...  \n",
       "574   POLYGON ((4666222.751 1976893.989, 4666543.574...  \n",
       "576   POLYGON ((4653424.837 1948201.417, 4653641.457...  \n",
       "577   POLYGON ((4710210.854 1899299.514, 4710469.103...  \n",
       "...                                                 ...  \n",
       "5580  POLYGON ((4679927.134 1909070.640, 4679982.283...  \n",
       "5598  POLYGON ((4689528.946 1930653.354, 4689505.157...  \n",
       "5599  POLYGON ((4689957.211 1933804.917, 4690002.617...  \n",
       "5600  POLYGON ((4686841.946 1937701.051, 4686829.877...  \n",
       "5720  POLYGON ((4696791.269 1927991.314, 4696833.634...  \n",
       "\n",
       "[253 rows x 9 columns]"
      ]
     },
     "execution_count": 83,
     "metadata": {},
     "output_type": "execute_result"
    }
   ],
   "source": [
    "cal_ct"
   ]
  },
  {
   "cell_type": "code",
   "execution_count": 85,
   "metadata": {},
   "outputs": [
    {
     "data": {
      "text/plain": [
       "<AxesSubplot:>"
      ]
     },
     "execution_count": 85,
     "metadata": {},
     "output_type": "execute_result"
    },
    {
     "data": {
      "image/png": "[encoded data removed]",
      "text/plain": [
       "<Figure size 432x288 with 1 Axes>"
      ]
     },
     "metadata": {
      "needs_background": "light"
     },
     "output_type": "display_data"
    }
   ],
   "source": [
    "cal_ct.plot()"
   ]
  },
  {
   "cell_type": "code",
   "execution_count": 90,
   "metadata": {},
   "outputs": [],
   "source": [
    "columns = ['CTUID','Condo','Freehold','Rental','Total']\n",
    "apt_starts=pd.read_excel('../starts_geo/Apt_Number of Housing Starts by CT, units.xlsx',engine = 'openpyxl',names=columns)\n",
    "apt_starts = apt_starts[1:-2]"
   ]
  },
  {
   "cell_type": "code",
   "execution_count": 91,
   "metadata": {},
   "outputs": [],
   "source": [
    "apt_starts['CTUID']=apt_starts['CTUID'].map('{:.2f}'.format)\n",
    "apt_starts['CTUID']=apt_starts['CTUID'].astype(str)"
   ]
  },
  {
   "cell_type": "code",
   "execution_count": 92,
   "metadata": {},
   "outputs": [
    {
     "data": {
      "text/plain": [
       "0     8250204.03\n",
       "1     8250201.02\n",
       "2     8250200.03\n",
       "3     8250206.06\n",
       "4     8250207.03\n",
       "         ...    \n",
       "95    8250017.03\n",
       "96    8250001.26\n",
       "97    8250076.12\n",
       "98    8250076.13\n",
       "99    8250038.29\n",
       "Name: CTUID, Length: 100, dtype: object"
      ]
     },
     "execution_count": 92,
     "metadata": {},
     "output_type": "execute_result"
    }
   ],
   "source": [
    "cal_ct.merge(apt_starts,on='CTUID')['CTUID']"
   ]
  },
  {
   "cell_type": "code",
   "execution_count": 93,
   "metadata": {},
   "outputs": [
    {
     "data": {
      "text/plain": [
       "10     8259000.01\n",
       "49     8259011.00\n",
       "67     8259009.00\n",
       "72     8259006.01\n",
       "73     8259013.01\n",
       "106    8259008.00\n",
       "107    8259012.00\n",
       "Name: CTUID, dtype: object"
      ]
     },
     "execution_count": 93,
     "metadata": {},
     "output_type": "execute_result"
    }
   ],
   "source": [
    "pd.concat([cal_ct.merge(apt_starts,on='CTUID')['CTUID'],apt_starts['CTUID']]).drop_duplicates(keep=False)"
   ]
  },
  {
   "cell_type": "code",
   "execution_count": null,
   "metadata": {},
   "outputs": [],
   "source": []
  }
 ],
 "metadata": {
  "interpreter": {
   "hash": "4d57eb15520bdf9d76b836ba8579931b8892b561c786673ca79aad067b848227"
  },
  "kernelspec": {
   "display_name": "Python 3.7.1 64-bit ('base': conda)",
   "language": "python",
   "name": "python3"
  },
  "language_info": {
   "codemirror_mode": {
    "name": "ipython",
    "version": 3
   },
   "file_extension": ".py",
   "mimetype": "text/x-python",
   "name": "python",
   "nbconvert_exporter": "python",
   "pygments_lexer": "ipython3",
   "version": "3.7.1"
  },
  "orig_nbformat": 4
 },
 "nbformat": 4,
 "nbformat_minor": 2
}
