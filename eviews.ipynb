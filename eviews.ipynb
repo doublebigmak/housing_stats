{
 "cells": [
  {
   "cell_type": "code",
   "execution_count": 2,
   "metadata": {},
   "outputs": [],
   "source": [
    "import pyeviews as evp\n",
    "import numpy as np\n",
    "import pandas as pd"
   ]
  },
  {
   "cell_type": "code",
   "execution_count": 3,
   "metadata": {},
   "outputs": [
    {
     "data": {
      "text/plain": [
       "'1.3.5'"
      ]
     },
     "execution_count": 3,
     "metadata": {},
     "output_type": "execute_result"
    }
   ],
   "source": [
    "evp.__version__\n",
    "pd.__version__"
   ]
  },
  {
   "cell_type": "code",
   "execution_count": 4,
   "metadata": {},
   "outputs": [],
   "source": [
    "eviewsapp =evp.GetEViewsApp(instance='either',showwindow=True)\n",
    "evp.Run('workfile test q 1980Q1 2021Q4',app = eviewsapp)\n",
    "evp.Run('open Z:\\\\DATABASE\\\\pareto.edb',app = eviewsapp)\n",
    "command= \"fetch acanliuna_q\"\n",
    "evp.Run(command,app = eviewsapp)\n",
    "\n",
    "df=evp.GetWFAsPython(app=eviewsapp, wfname=\"test\", namefilter=\"acanliuna_q\")"
   ]
  },
  {
   "cell_type": "markdown",
   "metadata": {},
   "source": [
    "[\"ACANLIUNA_Q\", \n",
    "\"ACANLIUNR_Q\",\n",
    "\"ACAPRICNA_Q\",\n",
    "\"ACAPRICNR_Q\",\n",
    "\"ACASALUNA_Q\",\n",
    "\"ACASALUNR_Q\",\n",
    "\"ACASMMURA_Q\",\n",
    "\"ACASSMURA_Q\",\n",
    "\"ACASTMURA_Q\",\n",
    "\"ACASNLVRA_Q\",\n",
    "\"ACASMMURA_Q\",\n",
    "\"ACASSMURA_Q\",\n",
    "\"ACASTMURA_Q]\n"
   ]
  },
  {
   "cell_type": "code",
   "execution_count": 7,
   "metadata": {},
   "outputs": [
    {
     "data": {
      "text/plain": [
       "{'ACANLIUNA_Q': 'new_list_sa',\n",
       " 'ACANLIUNR_Q': 'new_list_act',\n",
       " 'ACAPRICNA_Q': 'avg_price_sa',\n",
       " 'ACAPRICNR_Q': 'avg_price_act',\n",
       " 'ACASALUNA_Q': 'sales_sa',\n",
       " 'ACASALUNR_Q': 'sales_act',\n",
       " 'ACASMMURA_Q': 'multi_starts',\n",
       " 'ACASSMURA_Q': 'single_starts'}"
      ]
     },
     "execution_count": 7,
     "metadata": {},
     "output_type": "execute_result"
    }
   ],
   "source": [
    "name_scheme = {\"ACANLIUNA_Q\":\"new_list_sa\",\n",
    " \"ACANLIUNR_Q\":\"new_list_act\",\n",
    " \"ACAPRICNA_Q\":\"avg_price_sa\",\n",
    " \"ACAPRICNR_Q\":\"avg_price_act\",\n",
    " \"ACASALUNA_Q\":\"sales_sa\",\n",
    " \"ACASALUNR_Q\":\"sales_act\",\n",
    " \"ACASMMURA_Q\":\"multi_starts\",\n",
    " \"ACASSMURA_Q\":\"single_starts\",\n",
    " \"ACASTMURA_Q\":\"total_starts\",\n",
    " \"ACASNLVRA_Q\":\"sales_new_list\",\n",
    " \"ACASMMURA_Q\":\"multi_starts_saar\",\n",
    " \"ACASSMURA_Q\":\"single_starts_saar\",\n",
    " \"ACASTMURA_Q\":\"total_starts_saar\"}"
   ]
  },
  {
   "cell_type": "code",
   "execution_count": 32,
   "metadata": {},
   "outputs": [
    {
     "data": {
      "text/plain": [
       "DatetimeIndex(['1988-01-01', '1988-04-01', '1988-07-01', '1988-10-01',\n",
       "               '1989-01-01', '1989-04-01', '1989-07-01', '1989-10-01',\n",
       "               '1990-01-01', '1990-04-01',\n",
       "               ...\n",
       "               '2019-07-01', '2019-10-01', '2020-01-01', '2020-04-01',\n",
       "               '2020-07-01', '2020-10-01', '2021-01-01', '2021-04-01',\n",
       "               '2021-07-01', '2021-10-01'],\n",
       "              dtype='datetime64[ns]', length=136, freq=None)"
      ]
     },
     "execution_count": 32,
     "metadata": {},
     "output_type": "execute_result"
    }
   ],
   "source": [
    "pd.DatetimeIndex([date.date() for date in eviewsapp.GetSeries(\"@date\")])"
   ]
  },
  {
   "cell_type": "code",
   "execution_count": 11,
   "metadata": {},
   "outputs": [
    {
     "data": {
      "text/html": [
       "<div>\n",
       "<style scoped>\n",
       "    .dataframe tbody tr th:only-of-type {\n",
       "        vertical-align: middle;\n",
       "    }\n",
       "\n",
       "    .dataframe tbody tr th {\n",
       "        vertical-align: top;\n",
       "    }\n",
       "\n",
       "    .dataframe thead th {\n",
       "        text-align: right;\n",
       "    }\n",
       "</style>\n",
       "<table border=\"1\" class=\"dataframe\">\n",
       "  <thead>\n",
       "    <tr style=\"text-align: right;\">\n",
       "      <th></th>\n",
       "      <th>new_list</th>\n",
       "    </tr>\n",
       "  </thead>\n",
       "  <tbody>\n",
       "    <tr>\n",
       "      <th>1988-01-01</th>\n",
       "      <td>6427.0</td>\n",
       "    </tr>\n",
       "    <tr>\n",
       "      <th>1988-04-01</th>\n",
       "      <td>6613.0</td>\n",
       "    </tr>\n",
       "    <tr>\n",
       "      <th>1988-07-01</th>\n",
       "      <td>6592.0</td>\n",
       "    </tr>\n",
       "    <tr>\n",
       "      <th>1988-10-01</th>\n",
       "      <td>6441.0</td>\n",
       "    </tr>\n",
       "    <tr>\n",
       "      <th>1989-01-01</th>\n",
       "      <td>5806.0</td>\n",
       "    </tr>\n",
       "    <tr>\n",
       "      <th>...</th>\n",
       "      <td>...</td>\n",
       "    </tr>\n",
       "    <tr>\n",
       "      <th>2020-10-01</th>\n",
       "      <td>11045.0</td>\n",
       "    </tr>\n",
       "    <tr>\n",
       "      <th>2021-01-01</th>\n",
       "      <td>12440.0</td>\n",
       "    </tr>\n",
       "    <tr>\n",
       "      <th>2021-04-01</th>\n",
       "      <td>13542.0</td>\n",
       "    </tr>\n",
       "    <tr>\n",
       "      <th>2021-07-01</th>\n",
       "      <td>11373.0</td>\n",
       "    </tr>\n",
       "    <tr>\n",
       "      <th>2021-10-01</th>\n",
       "      <td>11450.0</td>\n",
       "    </tr>\n",
       "  </tbody>\n",
       "</table>\n",
       "<p>136 rows × 1 columns</p>\n",
       "</div>"
      ],
      "text/plain": [
       "            new_list\n",
       "1988-01-01    6427.0\n",
       "1988-04-01    6613.0\n",
       "1988-07-01    6592.0\n",
       "1988-10-01    6441.0\n",
       "1989-01-01    5806.0\n",
       "...              ...\n",
       "2020-10-01   11045.0\n",
       "2021-01-01   12440.0\n",
       "2021-04-01   13542.0\n",
       "2021-07-01   11373.0\n",
       "2021-10-01   11450.0\n",
       "\n",
       "[136 rows x 1 columns]"
      ]
     },
     "execution_count": 11,
     "metadata": {},
     "output_type": "execute_result"
    }
   ],
   "source": [
    "df.rename(columns={\"ACANLIUNA_Q\":\"new_list\"})"
   ]
  },
  {
   "cell_type": "code",
   "execution_count": null,
   "metadata": {},
   "outputs": [],
   "source": []
  }
 ],
 "metadata": {
  "interpreter": {
   "hash": "14bf2c76e000197bceaa90114488305a391583949e00b49ca75bca3bc403603c"
  },
  "kernelspec": {
   "display_name": "Python 3.7.4 64-bit ('base': conda)",
   "language": "python",
   "name": "python3"
  },
  "language_info": {
   "codemirror_mode": {
    "name": "ipython",
    "version": 3
   },
   "file_extension": ".py",
   "mimetype": "text/x-python",
   "name": "python",
   "nbconvert_exporter": "python",
   "pygments_lexer": "ipython3",
   "version": "3.7.11"
  },
  "orig_nbformat": 4
 },
 "nbformat": 4,
 "nbformat_minor": 2
}
